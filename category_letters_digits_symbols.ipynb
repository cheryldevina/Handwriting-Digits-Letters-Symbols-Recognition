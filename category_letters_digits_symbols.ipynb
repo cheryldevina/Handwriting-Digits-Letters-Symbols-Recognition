{
 "cells": [
  {
   "cell_type": "code",
   "execution_count": 1,
   "metadata": {},
   "outputs": [],
   "source": [
    "import matplotlib.pyplot as plt\n",
    "import numpy as np\n",
    "import cv2\n",
    "import tensorflow as tf\n",
    "import pathlib\n",
    "from tensorflow.keras.layers import Dense, Flatten, Conv2D, MaxPooling2D, Dropout\n",
    "from tensorflow.keras.models import Sequential\n",
    "from tensorflow.keras.preprocessing.image import ImageDataGenerator\n",
    "from emnist import extract_training_samples, extract_test_samples\n",
    "from sklearn.preprocessing import LabelEncoder, OneHotEncoder"
   ]
  },
  {
   "cell_type": "markdown",
   "metadata": {},
   "source": [
    "#### IMPORTING AND COLLECTING DATA"
   ]
  },
  {
   "cell_type": "code",
   "execution_count": 2,
   "metadata": {},
   "outputs": [],
   "source": [
    "x_train_l, y_train_l = extract_training_samples('letters')\n",
    "x_test_l, y_test_l = extract_test_samples('letters')\n",
    "\n",
    "x_train_d, y_train_d = extract_training_samples('digits')\n",
    "x_test_d, y_test_d = extract_test_samples('digits')"
   ]
  },
  {
   "cell_type": "code",
   "execution_count": 3,
   "metadata": {},
   "outputs": [
    {
     "name": "stdout",
     "output_type": "stream",
     "text": [
      "Found 488 images belonging to 4 classes.\n",
      "Found 120 images belonging to 4 classes.\n"
     ]
    }
   ],
   "source": [
    "train_data_generator = ImageDataGenerator(rescale=1/255.0, validation_split=0.2)\n",
    "\n",
    "data_dir = pathlib.Path('tanda_baca')\n",
    "train_ds = train_data_generator.flow_from_directory(\n",
    "  data_dir,\n",
    "  subset=\"training\",\n",
    "  seed=123,\n",
    "  target_size=(28, 28),\n",
    "  class_mode=\"categorical\",\n",
    "  batch_size=1,\n",
    "  color_mode=\"grayscale\")\n",
    "\n",
    "val_ds = train_data_generator.flow_from_directory(\n",
    "  data_dir,\n",
    "  subset=\"validation\",\n",
    "  seed=123,\n",
    "  target_size=(28, 28),\n",
    "  class_mode=\"categorical\",\n",
    "  batch_size=1,\n",
    "  color_mode=\"grayscale\")\n",
    "\n",
    "batch_index = 0\n",
    "x_train_s = []\n",
    "y_train_s = []\n",
    "while batch_index <= train_ds.batch_index:\n",
    "    data = train_ds.next()\n",
    "    x_train_s.append(data[0])\n",
    "    y_train_s.append(1)\n",
    "    batch_index += 1\n",
    "    \n",
    "batch_index = 0\n",
    "x_test_s = []\n",
    "y_test_s = []\n",
    "while batch_index <= val_ds.batch_index:\n",
    "    data = val_ds.next()\n",
    "    x_test_s.append(data[0])\n",
    "    y_test_s.append(1)\n",
    "    batch_index += 1\n",
    "    \n",
    "x_train_s, x_test_s = np.array(x_train_s), np.array(x_test_s)\n",
    "y_train_s, y_test_s = np.array(y_train_s), np.array(y_test_s)\n",
    "\n",
    "x_train_s = x_train_s.reshape(x_train_s.shape[0], 28, 28, 1)\n",
    "x_test_s = x_test_s.reshape(x_test_s.shape[0], 28, 28, 1)"
   ]
  },
  {
   "cell_type": "markdown",
   "metadata": {},
   "source": [
    "#### CATEGORIZING INTO LETTERS, DIGITS, AND SYMBOLS"
   ]
  },
  {
   "cell_type": "code",
   "execution_count": 4,
   "metadata": {},
   "outputs": [],
   "source": [
    "y_train_l_new, y_test_l_new = np.array([0 for x in y_train_l]), np.array([0 for x in y_test_l])\n",
    "y_train_d_new, y_test_d_new = np.array([1 for x in y_train_d]), np.array([1 for x in y_test_d])\n",
    "y_train_s_new, y_test_s_new = np.array([2 for x in y_train_s]), np.array([2 for x in y_test_s])"
   ]
  },
  {
   "cell_type": "markdown",
   "metadata": {},
   "source": [
    "#### NORMALIZING LETTERS AND DIGITS"
   ]
  },
  {
   "cell_type": "code",
   "execution_count": 6,
   "metadata": {},
   "outputs": [],
   "source": [
    "x_train_d, x_test_d = x_train_d/255.0, x_test_d/255.0\n",
    "x_train_l, x_test_l = x_train_l/255.0, x_test_l/255.0"
   ]
  },
  {
   "cell_type": "code",
   "execution_count": 7,
   "metadata": {},
   "outputs": [
    {
     "data": {
      "text/plain": [
       "(32, 28, 28, 1)"
      ]
     },
     "execution_count": 7,
     "metadata": {},
     "output_type": "execute_result"
    }
   ],
   "source": [
    "x_train_s.shape"
   ]
  },
  {
   "cell_type": "markdown",
   "metadata": {},
   "source": [
    "#### REMOVING LAST DIMENSION"
   ]
  },
  {
   "cell_type": "code",
   "execution_count": 8,
   "metadata": {},
   "outputs": [],
   "source": [
    "x_train_s =  x_train_s[:, :, :, 0]\n",
    "x_test_s = x_test_s[:, :, :, 0]"
   ]
  },
  {
   "cell_type": "code",
   "execution_count": 9,
   "metadata": {},
   "outputs": [
    {
     "data": {
      "text/plain": [
       "(32, 28, 28)"
      ]
     },
     "execution_count": 9,
     "metadata": {},
     "output_type": "execute_result"
    }
   ],
   "source": [
    "x_train_s.shape"
   ]
  },
  {
   "cell_type": "markdown",
   "metadata": {},
   "source": [
    "#### COMBINING DATASETS"
   ]
  },
  {
   "cell_type": "code",
   "execution_count": 10,
   "metadata": {},
   "outputs": [],
   "source": [
    "comb_x_train = np.concatenate((x_train_l, x_train_d, x_train_s), axis=0)\n",
    "comb_y_train = np.concatenate((y_train_l_new, y_train_d_new, y_train_s_new), axis=0)\n",
    "\n",
    "comb_x_test = np.concatenate((x_test_l, x_test_d, x_test_s), axis=0)\n",
    "comb_y_test = np.concatenate((y_test_l_new, y_test_d_new, y_test_s_new), axis=0)"
   ]
  },
  {
   "cell_type": "markdown",
   "metadata": {},
   "source": [
    "#### ADDING LAST DIMENSION"
   ]
  },
  {
   "cell_type": "code",
   "execution_count": 11,
   "metadata": {},
   "outputs": [],
   "source": [
    "comb_x_train = comb_x_train.reshape(comb_x_train.shape[0], 28, 28, 1)\n",
    "comb_x_test = comb_x_test.reshape(comb_x_test.shape[0], 28, 28, 1)"
   ]
  },
  {
   "cell_type": "code",
   "execution_count": 12,
   "metadata": {},
   "outputs": [
    {
     "data": {
      "text/plain": [
       "(364832, 28, 28, 1)"
      ]
     },
     "execution_count": 12,
     "metadata": {},
     "output_type": "execute_result"
    }
   ],
   "source": [
    "comb_x_train.shape"
   ]
  },
  {
   "cell_type": "code",
   "execution_count": 13,
   "metadata": {},
   "outputs": [
    {
     "data": {
      "text/plain": [
       "(364832,)"
      ]
     },
     "execution_count": 13,
     "metadata": {},
     "output_type": "execute_result"
    }
   ],
   "source": [
    "comb_y_train.shape"
   ]
  },
  {
   "cell_type": "markdown",
   "metadata": {},
   "source": [
    "#### ONE HOT ENCODING "
   ]
  },
  {
   "cell_type": "code",
   "execution_count": 14,
   "metadata": {},
   "outputs": [],
   "source": [
    "comb_y_train_oh = OneHotEncoder(sparse=False).fit_transform(comb_y_train.reshape(-1, 1))\n",
    "comb_y_test_oh = OneHotEncoder(sparse=False).fit_transform(comb_y_test.reshape(-1, 1))"
   ]
  },
  {
   "cell_type": "markdown",
   "metadata": {},
   "source": [
    "#### MODEL BUILDING & TRAINING"
   ]
  },
  {
   "cell_type": "code",
   "execution_count": 15,
   "metadata": {},
   "outputs": [
    {
     "name": "stdout",
     "output_type": "stream",
     "text": [
      "Model: \"sequential\"\n",
      "_________________________________________________________________\n",
      " Layer (type)                Output Shape              Param #   \n",
      "=================================================================\n",
      " conv2d (Conv2D)             (None, 26, 26, 16)        160       \n",
      "                                                                 \n",
      " max_pooling2d (MaxPooling2D  (None, 13, 13, 16)       0         \n",
      " )                                                               \n",
      "                                                                 \n",
      " conv2d_1 (Conv2D)           (None, 11, 11, 32)        4640      \n",
      "                                                                 \n",
      " conv2d_2 (Conv2D)           (None, 9, 9, 64)          18496     \n",
      "                                                                 \n",
      " max_pooling2d_1 (MaxPooling  (None, 4, 4, 64)         0         \n",
      " 2D)                                                             \n",
      "                                                                 \n",
      " flatten (Flatten)           (None, 1024)              0         \n",
      "                                                                 \n",
      " dense (Dense)               (None, 128)               131200    \n",
      "                                                                 \n",
      " dropout (Dropout)           (None, 128)               0         \n",
      "                                                                 \n",
      " dense_1 (Dense)             (None, 3)                 387       \n",
      "                                                                 \n",
      "=================================================================\n",
      "Total params: 154,883\n",
      "Trainable params: 154,883\n",
      "Non-trainable params: 0\n",
      "_________________________________________________________________\n"
     ]
    }
   ],
   "source": [
    "model = Sequential([\n",
    "    Conv2D(16, (3, 3), input_shape=comb_x_train.shape[1:], activation=\"relu\"),\n",
    "    MaxPooling2D((2, 2)),\n",
    "    Conv2D(32, (3, 3), activation=\"relu\"),\n",
    "    Conv2D(64, (3, 3), activation=\"relu\"),\n",
    "    MaxPooling2D((2, 2)),\n",
    "    Flatten(),\n",
    "    Dense(128, activation='relu'),\n",
    "    Dropout(0.2),\n",
    "    Dense(3, activation='softmax')])\n",
    "\n",
    "model.compile(optimizer = \"adam\", loss=\"categorical_crossentropy\", metrics=[\"acc\"])\n",
    "model.summary()"
   ]
  },
  {
   "cell_type": "code",
   "execution_count": 16,
   "metadata": {},
   "outputs": [
    {
     "name": "stdout",
     "output_type": "stream",
     "text": [
      "Epoch 1/20\n",
      "11401/11401 [==============================] - 36s 3ms/step - loss: 0.2221 - acc: 0.9103 - val_loss: 0.1773 - val_acc: 0.9314\n",
      "Epoch 2/20\n",
      "11401/11401 [==============================] - 34s 3ms/step - loss: 0.1670 - acc: 0.9347 - val_loss: 0.1576 - val_acc: 0.9390\n",
      "Epoch 3/20\n",
      "11401/11401 [==============================] - 32s 3ms/step - loss: 0.1544 - acc: 0.9394 - val_loss: 0.1528 - val_acc: 0.9403\n",
      "Epoch 4/20\n",
      "11401/11401 [==============================] - 35s 3ms/step - loss: 0.1475 - acc: 0.9418 - val_loss: 0.1495 - val_acc: 0.9423\n",
      "Epoch 5/20\n",
      "11401/11401 [==============================] - 34s 3ms/step - loss: 0.1420 - acc: 0.9439 - val_loss: 0.1516 - val_acc: 0.9420\n",
      "Epoch 6/20\n",
      "11401/11401 [==============================] - 34s 3ms/step - loss: 0.1378 - acc: 0.9459 - val_loss: 0.1456 - val_acc: 0.9441\n",
      "Epoch 7/20\n",
      "11401/11401 [==============================] - 34s 3ms/step - loss: 0.1340 - acc: 0.9472 - val_loss: 0.1488 - val_acc: 0.9425\n",
      "Epoch 8/20\n",
      "11401/11401 [==============================] - 34s 3ms/step - loss: 0.1306 - acc: 0.9483 - val_loss: 0.1458 - val_acc: 0.9443\n",
      "Epoch 9/20\n",
      "11401/11401 [==============================] - 35s 3ms/step - loss: 0.1277 - acc: 0.9495 - val_loss: 0.1528 - val_acc: 0.9435\n",
      "Epoch 10/20\n",
      "11401/11401 [==============================] - 35s 3ms/step - loss: 0.1258 - acc: 0.9500 - val_loss: 0.1497 - val_acc: 0.9445\n",
      "Epoch 11/20\n",
      "11401/11401 [==============================] - 36s 3ms/step - loss: 0.1238 - acc: 0.9512 - val_loss: 0.1550 - val_acc: 0.9438\n",
      "Epoch 12/20\n",
      "11401/11401 [==============================] - 35s 3ms/step - loss: 0.1209 - acc: 0.9519 - val_loss: 0.1568 - val_acc: 0.9440\n",
      "Epoch 13/20\n",
      "11401/11401 [==============================] - 35s 3ms/step - loss: 0.1194 - acc: 0.9522 - val_loss: 0.1572 - val_acc: 0.9422\n",
      "Epoch 14/20\n",
      "11401/11401 [==============================] - 33s 3ms/step - loss: 0.1175 - acc: 0.9532 - val_loss: 0.1578 - val_acc: 0.9418\n",
      "Epoch 15/20\n",
      "11401/11401 [==============================] - 35s 3ms/step - loss: 0.1157 - acc: 0.9538 - val_loss: 0.1667 - val_acc: 0.9426\n",
      "Epoch 16/20\n",
      "11401/11401 [==============================] - 34s 3ms/step - loss: 0.1142 - acc: 0.9544 - val_loss: 0.1767 - val_acc: 0.9422\n",
      "Epoch 17/20\n",
      "11401/11401 [==============================] - 34s 3ms/step - loss: 0.1134 - acc: 0.9546 - val_loss: 0.1705 - val_acc: 0.9425\n",
      "Epoch 18/20\n",
      "11401/11401 [==============================] - 33s 3ms/step - loss: 0.1116 - acc: 0.9554 - val_loss: 0.1651 - val_acc: 0.9426\n",
      "Epoch 19/20\n",
      "11401/11401 [==============================] - 33s 3ms/step - loss: 0.1103 - acc: 0.9558 - val_loss: 0.1720 - val_acc: 0.9427\n",
      "Epoch 20/20\n",
      "11401/11401 [==============================] - 33s 3ms/step - loss: 0.1097 - acc: 0.9562 - val_loss: 0.1739 - val_acc: 0.9429\n"
     ]
    },
    {
     "data": {
      "text/plain": [
       "<keras.callbacks.History at 0x1a62711a7d0>"
      ]
     },
     "execution_count": 16,
     "metadata": {},
     "output_type": "execute_result"
    }
   ],
   "source": [
    "model.fit(comb_x_train, comb_y_train_oh, epochs=20, validation_data=(comb_x_test, comb_y_test_oh))"
   ]
  },
  {
   "cell_type": "code",
   "execution_count": null,
   "metadata": {},
   "outputs": [],
   "source": [
    "model.save('model\\combined_new.h5')"
   ]
  }
 ],
 "metadata": {
  "kernelspec": {
   "display_name": "Python 3.10.4 64-bit",
   "language": "python",
   "name": "python3"
  },
  "language_info": {
   "codemirror_mode": {
    "name": "ipython",
    "version": 3
   },
   "file_extension": ".py",
   "mimetype": "text/x-python",
   "name": "python",
   "nbconvert_exporter": "python",
   "pygments_lexer": "ipython3",
   "version": "3.10.4"
  },
  "orig_nbformat": 4,
  "vscode": {
   "interpreter": {
    "hash": "afb734500600fd355917ca529030176ea0ca205570884b88f2f6f7d791fd3fbe"
   }
  }
 },
 "nbformat": 4,
 "nbformat_minor": 2
}
