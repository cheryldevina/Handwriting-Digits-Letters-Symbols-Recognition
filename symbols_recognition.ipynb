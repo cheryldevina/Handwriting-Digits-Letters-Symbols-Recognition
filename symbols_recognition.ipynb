{
 "cells": [
  {
   "cell_type": "code",
   "execution_count": 1,
   "metadata": {},
   "outputs": [
    {
     "name": "stderr",
     "output_type": "stream",
     "text": [
      "c:\\Users\\User\\AppData\\Local\\Programs\\Python\\Python310\\lib\\site-packages\\tqdm\\auto.py:22: TqdmWarning: IProgress not found. Please update jupyter and ipywidgets. See https://ipywidgets.readthedocs.io/en/stable/user_install.html\n",
      "  from .autonotebook import tqdm as notebook_tqdm\n"
     ]
    }
   ],
   "source": [
    "import matplotlib.pyplot as plt\n",
    "import numpy as np\n",
    "import cv2\n",
    "import tensorflow as tf\n",
    "import os\n",
    "import sys\n",
    "import PIL\n",
    "import PIL.Image\n",
    "import tensorflow_datasets as tfds\n",
    "import pathlib\n",
    "from tensorflow.keras.preprocessing.image import ImageDataGenerator\n",
    "from tensorflow.keras.layers import Dense, Flatten, Conv2D, MaxPooling2D, Dropout\n",
    "from tensorflow.keras.callbacks import EarlyStopping\n",
    "from tensorflow.keras.models import Sequential\n",
    "from sklearn.preprocessing import LabelEncoder\n",
    "from sklearn.preprocessing import OneHotEncoder"
   ]
  },
  {
   "cell_type": "markdown",
   "metadata": {},
   "source": [
    "#### COLLECTING DATA "
   ]
  },
  {
   "cell_type": "code",
   "execution_count": 2,
   "metadata": {},
   "outputs": [
    {
     "name": "stdout",
     "output_type": "stream",
     "text": [
      "Found 488 images belonging to 4 classes.\n",
      "Found 120 images belonging to 4 classes.\n"
     ]
    }
   ],
   "source": [
    "train_data_generator = ImageDataGenerator(rescale=1/255.0, validation_split=0.2)\n",
    "\n",
    "data_dir = pathlib.Path('tanda_baca')\n",
    "train_ds = train_data_generator.flow_from_directory(\n",
    "  data_dir,\n",
    "  subset=\"training\",\n",
    "  seed=123,\n",
    "  target_size=(28, 28),\n",
    "  class_mode=\"categorical\",\n",
    "  batch_size=32,\n",
    "  color_mode=\"grayscale\")\n",
    "\n",
    "val_ds = train_data_generator.flow_from_directory(\n",
    "  data_dir,\n",
    "  subset=\"validation\",\n",
    "  seed=123,\n",
    "  target_size=(28, 28),\n",
    "  class_mode=\"categorical\",\n",
    "  batch_size=32,\n",
    "  color_mode=\"grayscale\")\n"
   ]
  },
  {
   "cell_type": "code",
   "execution_count": 3,
   "metadata": {},
   "outputs": [
    {
     "data": {
      "text/plain": [
       "{'comma': 0, 'exclamation': 1, 'period': 2, 'question': 3}"
      ]
     },
     "execution_count": 3,
     "metadata": {},
     "output_type": "execute_result"
    }
   ],
   "source": [
    "train_ds.class_indices"
   ]
  },
  {
   "cell_type": "markdown",
   "metadata": {},
   "source": [
    "#### MODEL BUILDING & TRAINING"
   ]
  },
  {
   "cell_type": "code",
   "execution_count": 4,
   "metadata": {},
   "outputs": [
    {
     "name": "stdout",
     "output_type": "stream",
     "text": [
      "Model: \"sequential\"\n",
      "_________________________________________________________________\n",
      " Layer (type)                Output Shape              Param #   \n",
      "=================================================================\n",
      " conv2d (Conv2D)             (None, 26, 26, 32)        320       \n",
      "                                                                 \n",
      " conv2d_1 (Conv2D)           (None, 24, 24, 64)        18496     \n",
      "                                                                 \n",
      " max_pooling2d (MaxPooling2D  (None, 12, 12, 64)       0         \n",
      " )                                                               \n",
      "                                                                 \n",
      " flatten (Flatten)           (None, 9216)              0         \n",
      "                                                                 \n",
      " dense (Dense)               (None, 128)               1179776   \n",
      "                                                                 \n",
      " dense_1 (Dense)             (None, 256)               33024     \n",
      "                                                                 \n",
      " dropout (Dropout)           (None, 256)               0         \n",
      "                                                                 \n",
      " dense_2 (Dense)             (None, 4)                 1028      \n",
      "                                                                 \n",
      "=================================================================\n",
      "Total params: 1,232,644\n",
      "Trainable params: 1,232,644\n",
      "Non-trainable params: 0\n",
      "_________________________________________________________________\n"
     ]
    }
   ],
   "source": [
    "model = Sequential([\n",
    "                    Conv2D(32, (3,3), input_shape=train_ds[0][0].shape[1:], activation=\"relu\"),\n",
    "                    #MaxPooling2D((2,2)),\n",
    "                    Conv2D(64, (3,3), activation=\"relu\"),\n",
    "                    MaxPooling2D((2,2)),\n",
    "                    Flatten(),\n",
    "                    Dense(128, activation=\"relu\"),\n",
    "                    Dense(256, activation='relu', kernel_regularizer=tf.keras.regularizers.L1L2()),\n",
    "                    Dropout(0.3),\n",
    "                    Dense(4, activation='softmax')])\n",
    "\n",
    "model.compile(optimizer=tf.keras.optimizers.Adam(), loss='categorical_crossentropy', metrics=['acc'])\n",
    "model.summary()   "
   ]
  },
  {
   "cell_type": "code",
   "execution_count": 5,
   "metadata": {},
   "outputs": [
    {
     "name": "stdout",
     "output_type": "stream",
     "text": [
      "Epoch 1/30\n",
      "16/16 [==============================] - 4s 122ms/step - loss: 1.2149 - acc: 0.5635 - val_loss: 0.7154 - val_acc: 0.7750\n",
      "Epoch 2/30\n",
      "16/16 [==============================] - 0s 10ms/step - loss: 0.3871 - acc: 0.8689 - val_loss: 0.4267 - val_acc: 0.8167\n",
      "Epoch 3/30\n",
      "16/16 [==============================] - 0s 10ms/step - loss: 0.2182 - acc: 0.9180 - val_loss: 0.2469 - val_acc: 0.8917\n",
      "Epoch 4/30\n",
      "16/16 [==============================] - 0s 10ms/step - loss: 0.1483 - acc: 0.9385 - val_loss: 0.2462 - val_acc: 0.8500\n",
      "Epoch 5/30\n",
      "16/16 [==============================] - 0s 10ms/step - loss: 0.1380 - acc: 0.9508 - val_loss: 0.2108 - val_acc: 0.9167\n",
      "Epoch 6/30\n",
      "16/16 [==============================] - 0s 10ms/step - loss: 0.0877 - acc: 0.9570 - val_loss: 0.2472 - val_acc: 0.8833\n",
      "Epoch 7/30\n",
      "16/16 [==============================] - 0s 10ms/step - loss: 0.0645 - acc: 0.9795 - val_loss: 0.1765 - val_acc: 0.9083\n",
      "Epoch 8/30\n",
      "16/16 [==============================] - 0s 10ms/step - loss: 0.0466 - acc: 0.9877 - val_loss: 0.1414 - val_acc: 0.9417\n",
      "Epoch 9/30\n",
      "16/16 [==============================] - 0s 10ms/step - loss: 0.0497 - acc: 0.9795 - val_loss: 0.1388 - val_acc: 0.9500\n",
      "Epoch 10/30\n",
      "16/16 [==============================] - 0s 11ms/step - loss: 0.0535 - acc: 0.9775 - val_loss: 0.1843 - val_acc: 0.9167\n",
      "Epoch 11/30\n",
      "16/16 [==============================] - 0s 10ms/step - loss: 0.0417 - acc: 0.9836 - val_loss: 0.2167 - val_acc: 0.9083\n",
      "Epoch 12/30\n",
      "16/16 [==============================] - 0s 11ms/step - loss: 0.0251 - acc: 0.9939 - val_loss: 0.3388 - val_acc: 0.9083\n",
      "Epoch 13/30\n",
      "16/16 [==============================] - 0s 10ms/step - loss: 0.0202 - acc: 0.9939 - val_loss: 0.2063 - val_acc: 0.9250\n",
      "Epoch 14/30\n",
      "16/16 [==============================] - 0s 10ms/step - loss: 0.0151 - acc: 0.9959 - val_loss: 0.2687 - val_acc: 0.9167\n",
      "Epoch 15/30\n",
      "16/16 [==============================] - 0s 10ms/step - loss: 0.0120 - acc: 0.9959 - val_loss: 0.1423 - val_acc: 0.9417\n",
      "Epoch 16/30\n",
      "16/16 [==============================] - 0s 11ms/step - loss: 0.0022 - acc: 1.0000 - val_loss: 0.0809 - val_acc: 0.9667\n",
      "Epoch 17/30\n",
      "16/16 [==============================] - 0s 10ms/step - loss: 0.0052 - acc: 0.9980 - val_loss: 0.2096 - val_acc: 0.9167\n",
      "Epoch 18/30\n",
      "16/16 [==============================] - 0s 11ms/step - loss: 0.0022 - acc: 1.0000 - val_loss: 0.1109 - val_acc: 0.9500\n",
      "Epoch 19/30\n",
      "16/16 [==============================] - 0s 10ms/step - loss: 0.0014 - acc: 1.0000 - val_loss: 0.1367 - val_acc: 0.9500\n",
      "Epoch 20/30\n",
      "16/16 [==============================] - 0s 10ms/step - loss: 9.5648e-04 - acc: 1.0000 - val_loss: 0.0946 - val_acc: 0.9583\n",
      "Epoch 21/30\n",
      "16/16 [==============================] - 0s 11ms/step - loss: 5.0494e-04 - acc: 1.0000 - val_loss: 0.1317 - val_acc: 0.9417\n",
      "Epoch 22/30\n",
      "16/16 [==============================] - 0s 11ms/step - loss: 5.8418e-04 - acc: 1.0000 - val_loss: 0.1134 - val_acc: 0.9500\n",
      "Epoch 23/30\n",
      "16/16 [==============================] - 0s 11ms/step - loss: 4.4373e-04 - acc: 1.0000 - val_loss: 0.0924 - val_acc: 0.9500\n",
      "Epoch 24/30\n",
      "16/16 [==============================] - 0s 11ms/step - loss: 5.8402e-04 - acc: 1.0000 - val_loss: 0.1290 - val_acc: 0.9500\n",
      "Epoch 25/30\n",
      "16/16 [==============================] - 0s 11ms/step - loss: 5.3568e-04 - acc: 1.0000 - val_loss: 0.0884 - val_acc: 0.9833\n",
      "Epoch 26/30\n",
      "16/16 [==============================] - 0s 10ms/step - loss: 5.2516e-04 - acc: 1.0000 - val_loss: 0.1386 - val_acc: 0.9417\n",
      "Epoch 27/30\n",
      "16/16 [==============================] - 0s 11ms/step - loss: 8.1164e-04 - acc: 1.0000 - val_loss: 0.1194 - val_acc: 0.9417\n",
      "Epoch 28/30\n",
      "16/16 [==============================] - 0s 11ms/step - loss: 6.5695e-04 - acc: 1.0000 - val_loss: 0.0994 - val_acc: 0.9500\n",
      "Epoch 29/30\n",
      "16/16 [==============================] - 0s 10ms/step - loss: 3.7560e-04 - acc: 1.0000 - val_loss: 0.1450 - val_acc: 0.9417\n",
      "Epoch 30/30\n",
      "16/16 [==============================] - 0s 10ms/step - loss: 2.5400e-04 - acc: 1.0000 - val_loss: 0.1002 - val_acc: 0.9750\n"
     ]
    },
    {
     "data": {
      "text/plain": [
       "<keras.callbacks.History at 0x28f4acf70d0>"
      ]
     },
     "execution_count": 5,
     "metadata": {},
     "output_type": "execute_result"
    }
   ],
   "source": [
    "model.fit(train_ds, epochs=30, validation_data=(val_ds))"
   ]
  },
  {
   "cell_type": "code",
   "execution_count": 6,
   "metadata": {},
   "outputs": [],
   "source": [
    "model.save('model\\symbols.h5')"
   ]
  }
 ],
 "metadata": {
  "kernelspec": {
   "display_name": "Python 3.10.4 64-bit",
   "language": "python",
   "name": "python3"
  },
  "language_info": {
   "codemirror_mode": {
    "name": "ipython",
    "version": 3
   },
   "file_extension": ".py",
   "mimetype": "text/x-python",
   "name": "python",
   "nbconvert_exporter": "python",
   "pygments_lexer": "ipython3",
   "version": "3.10.4"
  },
  "orig_nbformat": 4,
  "vscode": {
   "interpreter": {
    "hash": "afb734500600fd355917ca529030176ea0ca205570884b88f2f6f7d791fd3fbe"
   }
  }
 },
 "nbformat": 4,
 "nbformat_minor": 2
}
