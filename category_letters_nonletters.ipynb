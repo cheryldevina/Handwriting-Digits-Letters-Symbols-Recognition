{
 "cells": [
  {
   "cell_type": "code",
   "execution_count": 2,
   "metadata": {},
   "outputs": [],
   "source": [
    "import matplotlib.pyplot as plt\n",
    "import numpy as np\n",
    "import cv2\n",
    "import tensorflow as tf\n",
    "import PIL\n",
    "import PIL.Image\n",
    "import pathlib\n",
    "from tensorflow.keras.layers import Dense, Flatten, Conv2D, MaxPooling2D, Dropout\n",
    "from tensorflow.keras.models import Sequential\n",
    "from tensorflow.keras.preprocessing.image import ImageDataGenerator\n",
    "from emnist import extract_training_samples, extract_test_samples\n",
    "from sklearn.preprocessing import LabelEncoder\n",
    "from sklearn.preprocessing import OneHotEncoder"
   ]
  },
  {
   "cell_type": "markdown",
   "metadata": {},
   "source": [
    "#### IMPORTING & COLLECTING DATA"
   ]
  },
  {
   "cell_type": "code",
   "execution_count": 3,
   "metadata": {},
   "outputs": [
    {
     "name": "stdout",
     "output_type": "stream",
     "text": [
      "Found 488 images belonging to 4 classes.\n",
      "Found 120 images belonging to 4 classes.\n"
     ]
    }
   ],
   "source": [
    "x_train_l, y_train_l = extract_training_samples('letters')\n",
    "x_test_l, y_test_l = extract_test_samples('letters')\n",
    "\n",
    "x_train_d, y_train_d = extract_training_samples('digits')\n",
    "x_test_d, y_test_d = extract_test_samples('digits')\n",
    "\n",
    "train_data_generator = ImageDataGenerator(rescale=1/255.0, validation_split=0.2)\n",
    "\n",
    "data_dir = pathlib.Path('tanda_baca')\n",
    "train_ds = train_data_generator.flow_from_directory(\n",
    "  data_dir,\n",
    "  subset=\"training\",\n",
    "  seed=123,\n",
    "  target_size=(28, 28),\n",
    "  class_mode=\"categorical\",\n",
    "  batch_size=1,\n",
    "  color_mode=\"grayscale\")\n",
    "\n",
    "val_ds = train_data_generator.flow_from_directory(\n",
    "  data_dir,\n",
    "  subset=\"validation\",\n",
    "  seed=123,\n",
    "  target_size=(28, 28),\n",
    "  class_mode=\"categorical\",\n",
    "  batch_size=1,\n",
    "  color_mode=\"grayscale\")\n",
    "\n",
    "batch_index = 0\n",
    "x_train_s = []\n",
    "y_train_s = []\n",
    "while batch_index <= train_ds.batch_index:\n",
    "    data = train_ds.next()\n",
    "    x_train_s.append(data[0])\n",
    "    y_train_s.append(1)\n",
    "    batch_index += 1\n",
    "    \n",
    "batch_index = 0\n",
    "x_test_s = []\n",
    "y_test_s = []\n",
    "while batch_index <= val_ds.batch_index:\n",
    "    data = val_ds.next()\n",
    "    x_test_s.append(data[0])\n",
    "    y_test_s.append(1)\n",
    "    batch_index += 1\n",
    "    \n",
    "x_train_s, x_test_s = np.array(x_train_s), np.array(x_test_s)\n",
    "y_train_s, y_test_s = np.array(y_train_s), np.array(y_test_s)\n",
    "\n",
    "x_train_s = x_train_s.reshape(x_train_s.shape[0], 28, 28, 1)\n",
    "x_test_s = x_test_s.reshape(x_test_s.shape[0], 28, 28, 1)"
   ]
  },
  {
   "cell_type": "markdown",
   "metadata": {},
   "source": [
    "#### SHUFFLING AND SPLITTING DATA FOR BALANCING PURPOSES"
   ]
  },
  {
   "cell_type": "code",
   "execution_count": 3,
   "metadata": {},
   "outputs": [],
   "source": [
    "idx = [x for x in range(len(y_train_d))]\n",
    "np.random.shuffle(idx)\n",
    "\n",
    "idx_test = [x for x in range(len(y_test_d))]\n",
    "np.random.shuffle(idx_test)\n",
    "\n",
    "split_x_train_d, split_y_train_d = x_train_d[idx[:488]], y_train_d[idx[:488]]\n",
    "split_x_test_d, split_y_test_d = x_test_d[idx_test[:120]], y_test_d[idx_test[:120]]\n",
    "\n",
    "idx = [x for x in range(len(y_train_l))]\n",
    "np.random.shuffle(idx)\n",
    "\n",
    "idx_test = [x for x in range(len(y_test_l))]\n",
    "np.random.shuffle(idx_test)\n",
    "\n",
    "split_x_train_l, split_y_train_l = x_train_l[idx[:488*2]], y_train_l[idx[:488*2]]\n",
    "split_x_test_l, split_y_test_l = x_test_l[idx_test[:120*2]], y_test_l[idx_test[:120*2]]"
   ]
  },
  {
   "cell_type": "markdown",
   "metadata": {},
   "source": [
    "#### NORMALIZING"
   ]
  },
  {
   "cell_type": "code",
   "execution_count": 4,
   "metadata": {},
   "outputs": [],
   "source": [
    "split_x_train_d, split_x_test_d = split_x_train_d/255.0, split_x_test_d/255.0\n",
    "split_x_train_l, split_x_test_l = split_x_train_l/255.0, split_x_test_l/255.0"
   ]
  },
  {
   "cell_type": "markdown",
   "metadata": {},
   "source": [
    "#### REMOVING LAST DIMENSION"
   ]
  },
  {
   "cell_type": "code",
   "execution_count": 7,
   "metadata": {},
   "outputs": [],
   "source": [
    "x_train_s =  x_train_s[:, :, :, 0]\n",
    "x_test_s = x_test_s[:, :, :, 0]"
   ]
  },
  {
   "cell_type": "markdown",
   "metadata": {},
   "source": [
    "#### CATEGORIZING INTO LETTERS & NON-LETTERS"
   ]
  },
  {
   "cell_type": "code",
   "execution_count": 6,
   "metadata": {},
   "outputs": [],
   "source": [
    "y_train_l_new, y_test_l_new = np.array([0 for x in split_y_train_l]), np.array([0 for x in split_y_test_l])\n",
    "y_train_d_new, y_test_d_new = np.array([1 for x in split_y_train_d]), np.array([1 for x in split_y_test_d])\n",
    "y_train_s_new, y_test_s_new = np.array([1 for x in y_train_s]), np.array([1 for x in y_test_s])"
   ]
  },
  {
   "cell_type": "markdown",
   "metadata": {},
   "source": [
    "#### COMBINING DATASETS"
   ]
  },
  {
   "cell_type": "code",
   "execution_count": 7,
   "metadata": {},
   "outputs": [],
   "source": [
    "comb_x_train = np.concatenate((split_x_train_l, split_x_train_d, x_train_s), axis=0)\n",
    "comb_y_train = np.concatenate((y_train_l_new, y_train_d_new, y_train_s_new), axis=0)\n",
    "\n",
    "comb_x_test = np.concatenate((split_x_test_l, split_x_test_d, x_test_s), axis=0)\n",
    "comb_y_test = np.concatenate((y_test_l_new, y_test_d_new, y_test_s_new), axis=0)"
   ]
  },
  {
   "cell_type": "markdown",
   "metadata": {},
   "source": [
    "#### ADDING BACK THE LAST DIMENSION OF IMAGE CHANNEL"
   ]
  },
  {
   "cell_type": "code",
   "execution_count": 8,
   "metadata": {},
   "outputs": [],
   "source": [
    "comb_x_train = comb_x_train.reshape(comb_x_train.shape[0], 28, 28, 1)\n",
    "comb_x_test = comb_x_test.reshape(comb_x_test.shape[0], 28, 28, 1)"
   ]
  },
  {
   "cell_type": "code",
   "execution_count": 9,
   "metadata": {},
   "outputs": [
    {
     "data": {
      "text/plain": [
       "(480, 28, 28, 1)"
      ]
     },
     "execution_count": 9,
     "metadata": {},
     "output_type": "execute_result"
    }
   ],
   "source": [
    "comb_x_test.shape"
   ]
  },
  {
   "cell_type": "markdown",
   "metadata": {},
   "source": [
    "#### MODEL BUILDING & TRAINING"
   ]
  },
  {
   "cell_type": "code",
   "execution_count": 10,
   "metadata": {},
   "outputs": [
    {
     "name": "stdout",
     "output_type": "stream",
     "text": [
      "Model: \"sequential\"\n",
      "_________________________________________________________________\n",
      " Layer (type)                Output Shape              Param #   \n",
      "=================================================================\n",
      " conv2d (Conv2D)             (None, 26, 26, 32)        320       \n",
      "                                                                 \n",
      " max_pooling2d (MaxPooling2D  (None, 13, 13, 32)       0         \n",
      " )                                                               \n",
      "                                                                 \n",
      " conv2d_1 (Conv2D)           (None, 11, 11, 32)        9248      \n",
      "                                                                 \n",
      " flatten (Flatten)           (None, 3872)              0         \n",
      "                                                                 \n",
      " dense (Dense)               (None, 32)                123936    \n",
      "                                                                 \n",
      " dropout (Dropout)           (None, 32)                0         \n",
      "                                                                 \n",
      " dense_1 (Dense)             (None, 1)                 33        \n",
      "                                                                 \n",
      "=================================================================\n",
      "Total params: 133,537\n",
      "Trainable params: 133,537\n",
      "Non-trainable params: 0\n",
      "_________________________________________________________________\n"
     ]
    }
   ],
   "source": [
    "model = Sequential([\n",
    "    Conv2D(32, (3, 3), input_shape=comb_x_train.shape[1:], activation=\"relu\"),\n",
    "    MaxPooling2D((2, 2)),\n",
    "    Conv2D(32, (3, 3), activation=\"relu\"),\n",
    "    Flatten(),\n",
    "    Dense(32, activation='relu'),\n",
    "    Dropout(0.2),\n",
    "    Dense(1, activation='sigmoid')])\n",
    "\n",
    "model.compile(optimizer = \"adam\", loss=\"binary_crossentropy\", metrics=[\"acc\"])\n",
    "model.summary()"
   ]
  },
  {
   "cell_type": "code",
   "execution_count": 11,
   "metadata": {},
   "outputs": [
    {
     "name": "stdout",
     "output_type": "stream",
     "text": [
      "Epoch 1/20\n",
      "61/61 [==============================] - 5s 5ms/step - loss: 0.4634 - acc: 0.7428 - val_loss: 0.4259 - val_acc: 0.7771\n",
      "Epoch 2/20\n",
      "61/61 [==============================] - 0s 3ms/step - loss: 0.3975 - acc: 0.7946 - val_loss: 0.3605 - val_acc: 0.8125\n",
      "Epoch 3/20\n",
      "61/61 [==============================] - 0s 3ms/step - loss: 0.3675 - acc: 0.8094 - val_loss: 0.3478 - val_acc: 0.8188\n",
      "Epoch 4/20\n",
      "61/61 [==============================] - 0s 3ms/step - loss: 0.3427 - acc: 0.8212 - val_loss: 0.3384 - val_acc: 0.8250\n",
      "Epoch 5/20\n",
      "61/61 [==============================] - 0s 3ms/step - loss: 0.3175 - acc: 0.8453 - val_loss: 0.3332 - val_acc: 0.8375\n",
      "Epoch 6/20\n",
      "61/61 [==============================] - 0s 3ms/step - loss: 0.2982 - acc: 0.8555 - val_loss: 0.3097 - val_acc: 0.8583\n",
      "Epoch 7/20\n",
      "61/61 [==============================] - 0s 3ms/step - loss: 0.2729 - acc: 0.8678 - val_loss: 0.3096 - val_acc: 0.8625\n",
      "Epoch 8/20\n",
      "61/61 [==============================] - 0s 3ms/step - loss: 0.2583 - acc: 0.8796 - val_loss: 0.3049 - val_acc: 0.8729\n",
      "Epoch 9/20\n",
      "61/61 [==============================] - 0s 3ms/step - loss: 0.2327 - acc: 0.8904 - val_loss: 0.3213 - val_acc: 0.8521\n",
      "Epoch 10/20\n",
      "61/61 [==============================] - 0s 3ms/step - loss: 0.2175 - acc: 0.9006 - val_loss: 0.2930 - val_acc: 0.8667\n",
      "Epoch 11/20\n",
      "61/61 [==============================] - 0s 3ms/step - loss: 0.1956 - acc: 0.9114 - val_loss: 0.3177 - val_acc: 0.8479\n",
      "Epoch 12/20\n",
      "61/61 [==============================] - 0s 3ms/step - loss: 0.1778 - acc: 0.9314 - val_loss: 0.2982 - val_acc: 0.8771\n",
      "Epoch 13/20\n",
      "61/61 [==============================] - 0s 3ms/step - loss: 0.1556 - acc: 0.9329 - val_loss: 0.2951 - val_acc: 0.8813\n",
      "Epoch 14/20\n",
      "61/61 [==============================] - 0s 3ms/step - loss: 0.1533 - acc: 0.9395 - val_loss: 0.2891 - val_acc: 0.8687\n",
      "Epoch 15/20\n",
      "61/61 [==============================] - 0s 3ms/step - loss: 0.1288 - acc: 0.9493 - val_loss: 0.3155 - val_acc: 0.8625\n",
      "Epoch 16/20\n",
      "61/61 [==============================] - 0s 3ms/step - loss: 0.1213 - acc: 0.9518 - val_loss: 0.3261 - val_acc: 0.8500\n",
      "Epoch 17/20\n",
      "61/61 [==============================] - 0s 3ms/step - loss: 0.1203 - acc: 0.9503 - val_loss: 0.3397 - val_acc: 0.8542\n",
      "Epoch 18/20\n",
      "61/61 [==============================] - 0s 3ms/step - loss: 0.1086 - acc: 0.9549 - val_loss: 0.3280 - val_acc: 0.8667\n",
      "Epoch 19/20\n",
      "61/61 [==============================] - 0s 3ms/step - loss: 0.0824 - acc: 0.9688 - val_loss: 0.3275 - val_acc: 0.8729\n",
      "Epoch 20/20\n",
      "61/61 [==============================] - 0s 3ms/step - loss: 0.0799 - acc: 0.9703 - val_loss: 0.3606 - val_acc: 0.8667\n"
     ]
    },
    {
     "data": {
      "text/plain": [
       "<keras.callbacks.History at 0x23f9c6aabf0>"
      ]
     },
     "execution_count": 11,
     "metadata": {},
     "output_type": "execute_result"
    }
   ],
   "source": [
    "model.fit(comb_x_train, comb_y_train, epochs=20, validation_data=(comb_x_test, comb_y_test))"
   ]
  },
  {
   "cell_type": "code",
   "execution_count": 12,
   "metadata": {},
   "outputs": [
    {
     "data": {
      "text/plain": [
       "(28, 28, 1)"
      ]
     },
     "execution_count": 12,
     "metadata": {},
     "output_type": "execute_result"
    }
   ],
   "source": [
    "comb_x_test[5].shape"
   ]
  },
  {
   "cell_type": "code",
   "execution_count": 13,
   "metadata": {},
   "outputs": [
    {
     "name": "stdout",
     "output_type": "stream",
     "text": [
      "1/1 [==============================] - 0s 93ms/step\n",
      "[[0.]]\n"
     ]
    },
    {
     "data": {
      "text/plain": [
       "<matplotlib.image.AxesImage at 0x23fb2739900>"
      ]
     },
     "execution_count": 13,
     "metadata": {},
     "output_type": "execute_result"
    },
    {
     "data": {
      "image/png": "[encoded data removed]",
      "text/plain": [
       "<Figure size 432x288 with 1 Axes>"
      ]
     },
     "metadata": {
      "needs_background": "light"
     },
     "output_type": "display_data"
    }
   ],
   "source": [
    "# comb_x_test.shape\n",
    "res = model.predict(np.array(comb_x_test[5]).reshape(1, 28, 28, 1))\n",
    "print(np.round(res))\n",
    "\n",
    "plt.imshow(np.array(comb_x_test[5]))"
   ]
  },
  {
   "cell_type": "code",
   "execution_count": 14,
   "metadata": {},
   "outputs": [],
   "source": [
    "model.save('model\\check_letter.h5')"
   ]
  }
 ],
 "metadata": {
  "kernelspec": {
   "display_name": "Python 3.10.4 64-bit",
   "language": "python",
   "name": "python3"
  },
  "language_info": {
   "codemirror_mode": {
    "name": "ipython",
    "version": 3
   },
   "file_extension": ".py",
   "mimetype": "text/x-python",
   "name": "python",
   "nbconvert_exporter": "python",
   "pygments_lexer": "ipython3",
   "version": "3.10.4"
  },
  "orig_nbformat": 4,
  "vscode": {
   "interpreter": {
    "hash": "afb734500600fd355917ca529030176ea0ca205570884b88f2f6f7d791fd3fbe"
   }
  }
 },
 "nbformat": 4,
 "nbformat_minor": 2
}
