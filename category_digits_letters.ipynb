{
 "cells": [
  {
   "cell_type": "code",
   "execution_count": 1,
   "metadata": {},
   "outputs": [],
   "source": [
    "import matplotlib.pyplot as plt\n",
    "import numpy as np\n",
    "import cv2\n",
    "import tensorflow as tf\n",
    "from tensorflow.keras.layers import Dense, Flatten, Conv2D, MaxPooling2D, Dropout\n",
    "from tensorflow.keras.models import Sequential\n",
    "from emnist import extract_training_samples, extract_test_samples\n",
    "from sklearn.preprocessing import LabelEncoder\n",
    "from sklearn.preprocessing import OneHotEncoder"
   ]
  },
  {
   "cell_type": "markdown",
   "metadata": {},
   "source": [
    "#### IMPORTING DATA FROM EMNIST"
   ]
  },
  {
   "cell_type": "code",
   "execution_count": 2,
   "metadata": {},
   "outputs": [],
   "source": [
    "x_train_l, y_train_l = extract_training_samples('letters')\n",
    "x_test_l, y_test_l = extract_test_samples('letters')\n",
    "\n",
    "x_train_d, y_train_d = extract_training_samples('digits')\n",
    "x_test_d, y_test_d = extract_test_samples('digits')"
   ]
  },
  {
   "cell_type": "markdown",
   "metadata": {},
   "source": [
    "#### ADDING CHANNEL TO DIMENSION"
   ]
  },
  {
   "cell_type": "code",
   "execution_count": 3,
   "metadata": {},
   "outputs": [],
   "source": [
    "x_train_l = x_train_l.reshape(x_train_l.shape[0], 28, 28, 1)\n",
    "x_test_l = x_test_l.reshape(x_test_l.shape[0], 28, 28, 1)\n",
    "\n",
    "x_train_d = x_train_d.reshape(x_train_d.shape[0], 28, 28, 1)\n",
    "x_test_d = x_test_d.reshape(x_test_d.shape[0], 28, 28, 1)"
   ]
  },
  {
   "cell_type": "markdown",
   "metadata": {},
   "source": [
    "#### CATEGORIZING INTO LETTERS & DIGITS"
   ]
  },
  {
   "cell_type": "code",
   "execution_count": 5,
   "metadata": {},
   "outputs": [],
   "source": [
    "y_train_l_new, y_test_l_new = np.array([0 for x in y_train_l]), np.array([0 for x in y_test_l])\n",
    "y_train_d_new, y_test_d_new = np.array([1 for x in y_train_d]), np.array([1 for x in y_test_d])"
   ]
  },
  {
   "cell_type": "markdown",
   "metadata": {},
   "source": [
    "#### SHUFFLING DATA AND SPLITTING FOR BALANCING PURPOSES"
   ]
  },
  {
   "cell_type": "code",
   "execution_count": 6,
   "metadata": {},
   "outputs": [],
   "source": [
    "idx = [x for x in range(len(y_train_d))]\n",
    "np.random.shuffle(idx)\n",
    "\n",
    "idx_test = [x for x in range(len(y_test_d))]\n",
    "np.random.shuffle(idx_test)"
   ]
  },
  {
   "cell_type": "code",
   "execution_count": 8,
   "metadata": {},
   "outputs": [],
   "source": [
    "shuffle_x_train_d, shuffle_y_train_d = x_train_d[idx], y_train_d_new[idx]\n",
    "shuffle_x_test_d, shuffle_y_test_d = x_test_d[idx_test], y_test_d_new[idx_test]"
   ]
  },
  {
   "cell_type": "code",
   "execution_count": 9,
   "metadata": {},
   "outputs": [],
   "source": [
    "split_x_train_d, split_y_train_d = np.array([shuffle_x_train_d[x] for x in range(124800)]), np.array([shuffle_y_train_d[x] for x in range(124800)])\n",
    "split_x_test_d, split_y_test_d = np.array([shuffle_x_test_d[x] for x in range(20800)]), np.array([shuffle_y_test_d[x] for x in range(20800)])"
   ]
  },
  {
   "cell_type": "markdown",
   "metadata": {},
   "source": [
    "#### NORMALIZING"
   ]
  },
  {
   "cell_type": "code",
   "execution_count": 10,
   "metadata": {},
   "outputs": [],
   "source": [
    "split_x_train_d, split_x_test_d = split_x_train_d / 255.0, split_x_test_d / 255.0\n",
    "x_train_l, x_test_l = x_train_l / 255.0, x_test_l / 255.0"
   ]
  },
  {
   "cell_type": "markdown",
   "metadata": {},
   "source": [
    "#### COMBINING DATASETS"
   ]
  },
  {
   "cell_type": "code",
   "execution_count": 11,
   "metadata": {},
   "outputs": [],
   "source": [
    "comb_x_train = np.concatenate((x_train_l, split_x_train_d), axis=0)\n",
    "comb_y_train = np.concatenate((y_train_l_new, split_y_train_d), axis=0)\n",
    "\n",
    "comb_x_test = np.concatenate((x_test_l, split_x_test_d), axis=0)\n",
    "comb_y_test = np.concatenate((y_test_l_new, split_y_test_d), axis=0)"
   ]
  },
  {
   "cell_type": "code",
   "execution_count": 12,
   "metadata": {},
   "outputs": [
    {
     "data": {
      "text/plain": [
       "(249600, 28, 28, 1)"
      ]
     },
     "execution_count": 12,
     "metadata": {},
     "output_type": "execute_result"
    }
   ],
   "source": [
    "comb_x_train.shape"
   ]
  },
  {
   "cell_type": "code",
   "execution_count": 13,
   "metadata": {},
   "outputs": [
    {
     "data": {
      "text/plain": [
       "(249600,)"
      ]
     },
     "execution_count": 13,
     "metadata": {},
     "output_type": "execute_result"
    }
   ],
   "source": [
    "comb_y_train.shape"
   ]
  },
  {
   "cell_type": "markdown",
   "metadata": {},
   "source": [
    "#### MODEL BUILDING AND TRAINING"
   ]
  },
  {
   "cell_type": "code",
   "execution_count": 14,
   "metadata": {},
   "outputs": [
    {
     "name": "stdout",
     "output_type": "stream",
     "text": [
      "Model: \"sequential\"\n",
      "_________________________________________________________________\n",
      " Layer (type)                Output Shape              Param #   \n",
      "=================================================================\n",
      " conv2d (Conv2D)             (None, 26, 26, 16)        160       \n",
      "                                                                 \n",
      " max_pooling2d (MaxPooling2D  (None, 13, 13, 16)       0         \n",
      " )                                                               \n",
      "                                                                 \n",
      " conv2d_1 (Conv2D)           (None, 11, 11, 32)        4640      \n",
      "                                                                 \n",
      " conv2d_2 (Conv2D)           (None, 9, 9, 64)          18496     \n",
      "                                                                 \n",
      " max_pooling2d_1 (MaxPooling  (None, 4, 4, 64)         0         \n",
      " 2D)                                                             \n",
      "                                                                 \n",
      " flatten (Flatten)           (None, 1024)              0         \n",
      "                                                                 \n",
      " dense (Dense)               (None, 128)               131200    \n",
      "                                                                 \n",
      " dropout (Dropout)           (None, 128)               0         \n",
      "                                                                 \n",
      " dense_1 (Dense)             (None, 1)                 129       \n",
      "                                                                 \n",
      "=================================================================\n",
      "Total params: 154,625\n",
      "Trainable params: 154,625\n",
      "Non-trainable params: 0\n",
      "_________________________________________________________________\n"
     ]
    }
   ],
   "source": [
    "model = Sequential([\n",
    "    Conv2D(16, (3, 3), input_shape=comb_x_train.shape[1:], activation=\"relu\"),\n",
    "    MaxPooling2D((2, 2)),\n",
    "    Conv2D(32, (3, 3), activation=\"relu\"),\n",
    "    Conv2D(64, (3, 3), activation=\"relu\"),\n",
    "    MaxPooling2D((2, 2)),\n",
    "    Flatten(),\n",
    "    Dense(128, activation='relu'),\n",
    "    Dropout(0.2),\n",
    "    Dense(1, activation='sigmoid')])\n",
    "\n",
    "model.compile(optimizer = \"adam\", loss=\"binary_crossentropy\", metrics=[\"acc\"])\n",
    "model.summary()"
   ]
  },
  {
   "cell_type": "code",
   "execution_count": 17,
   "metadata": {},
   "outputs": [
    {
     "name": "stdout",
     "output_type": "stream",
     "text": [
      "Epoch 1/20\n",
      "7800/7800 [==============================] - 23s 3ms/step - loss: 0.1578 - acc: 0.9322 - val_loss: 0.1687 - val_acc: 0.9306\n",
      "Epoch 2/20\n",
      "7800/7800 [==============================] - 23s 3ms/step - loss: 0.1517 - acc: 0.9344 - val_loss: 0.1622 - val_acc: 0.9318\n",
      "Epoch 3/20\n",
      "7800/7800 [==============================] - 24s 3ms/step - loss: 0.1459 - acc: 0.9377 - val_loss: 0.1641 - val_acc: 0.9321\n",
      "Epoch 4/20\n",
      "7800/7800 [==============================] - 23s 3ms/step - loss: 0.1418 - acc: 0.9387 - val_loss: 0.1617 - val_acc: 0.9319\n",
      "Epoch 5/20\n",
      "7800/7800 [==============================] - 23s 3ms/step - loss: 0.1373 - acc: 0.9407 - val_loss: 0.1634 - val_acc: 0.9325\n",
      "Epoch 6/20\n",
      "7800/7800 [==============================] - 23s 3ms/step - loss: 0.1337 - acc: 0.9416 - val_loss: 0.1650 - val_acc: 0.9325\n",
      "Epoch 7/20\n",
      "7800/7800 [==============================] - 23s 3ms/step - loss: 0.1301 - acc: 0.9430 - val_loss: 0.1691 - val_acc: 0.9301\n",
      "Epoch 8/20\n",
      "7800/7800 [==============================] - 23s 3ms/step - loss: 0.1272 - acc: 0.9443 - val_loss: 0.1714 - val_acc: 0.9312\n",
      "Epoch 9/20\n",
      "7800/7800 [==============================] - 23s 3ms/step - loss: 0.1242 - acc: 0.9456 - val_loss: 0.1809 - val_acc: 0.9297\n",
      "Epoch 10/20\n",
      "7800/7800 [==============================] - 23s 3ms/step - loss: 0.1214 - acc: 0.9463 - val_loss: 0.1796 - val_acc: 0.9286\n",
      "Epoch 11/20\n",
      "7800/7800 [==============================] - 24s 3ms/step - loss: 0.1195 - acc: 0.9473 - val_loss: 0.1837 - val_acc: 0.9281\n",
      "Epoch 12/20\n",
      "7800/7800 [==============================] - 24s 3ms/step - loss: 0.1163 - acc: 0.9483 - val_loss: 0.1944 - val_acc: 0.9298\n",
      "Epoch 13/20\n",
      "7800/7800 [==============================] - 24s 3ms/step - loss: 0.1137 - acc: 0.9493 - val_loss: 0.1963 - val_acc: 0.9283\n",
      "Epoch 14/20\n",
      "7800/7800 [==============================] - 22s 3ms/step - loss: 0.1119 - acc: 0.9500 - val_loss: 0.1906 - val_acc: 0.9297\n",
      "Epoch 15/20\n",
      "7800/7800 [==============================] - 22s 3ms/step - loss: 0.1099 - acc: 0.9515 - val_loss: 0.2012 - val_acc: 0.9293\n",
      "Epoch 16/20\n",
      "7800/7800 [==============================] - 23s 3ms/step - loss: 0.1085 - acc: 0.9522 - val_loss: 0.2018 - val_acc: 0.9293\n",
      "Epoch 17/20\n",
      "7800/7800 [==============================] - 24s 3ms/step - loss: 0.1067 - acc: 0.9521 - val_loss: 0.2134 - val_acc: 0.9292\n",
      "Epoch 18/20\n",
      "7800/7800 [==============================] - 24s 3ms/step - loss: 0.1046 - acc: 0.9532 - val_loss: 0.2020 - val_acc: 0.9283\n",
      "Epoch 19/20\n",
      "7800/7800 [==============================] - 24s 3ms/step - loss: 0.1034 - acc: 0.9539 - val_loss: 0.2039 - val_acc: 0.9286\n",
      "Epoch 20/20\n",
      "7800/7800 [==============================] - 24s 3ms/step - loss: 0.1012 - acc: 0.9547 - val_loss: 0.2191 - val_acc: 0.9294\n"
     ]
    },
    {
     "data": {
      "text/plain": [
       "<keras.callbacks.History at 0x1b3cb92de40>"
      ]
     },
     "execution_count": 17,
     "metadata": {},
     "output_type": "execute_result"
    }
   ],
   "source": [
    "model.fit(comb_x_train, comb_y_train, epochs=20, validation_data=(comb_x_test, comb_y_test))"
   ]
  },
  {
   "cell_type": "code",
   "execution_count": 18,
   "metadata": {},
   "outputs": [],
   "source": [
    "model.save('model\\combined.h5')"
   ]
  },
  {
   "cell_type": "code",
   "execution_count": null,
   "metadata": {},
   "outputs": [
    {
     "data": {
      "text/plain": [
       "<matplotlib.image.AxesImage at 0x1b99cfc4850>"
      ]
     },
     "execution_count": 18,
     "metadata": {},
     "output_type": "execute_result"
    },
    {
     "data": {
      "image/png": "[encoded data removed]",
      "text/plain": [
       "<Figure size 432x288 with 1 Axes>"
      ]
     },
     "metadata": {
      "needs_background": "light"
     },
     "output_type": "display_data"
    }
   ],
   "source": [
    "filename = 'test/8.png'\n",
    "img = cv2.imread(filename)[:, :, 0]\n",
    "img = cv2.bitwise_not(img)\n",
    "img = img[:,:,np.newaxis]\n",
    "img.shape\n",
    "plt.imshow(img)"
   ]
  },
  {
   "cell_type": "code",
   "execution_count": null,
   "metadata": {},
   "outputs": [
    {
     "name": "stdout",
     "output_type": "stream",
     "text": [
      "1/1 [==============================] - 0s 128ms/step\n",
      "Class [[1.]]\n"
     ]
    }
   ],
   "source": [
    "prediction = model.predict(np.array([img]))\n",
    "print(\"Class\", np.round(prediction))"
   ]
  }
 ],
 "metadata": {
  "kernelspec": {
   "display_name": "Python 3.10.4 64-bit",
   "language": "python",
   "name": "python3"
  },
  "language_info": {
   "codemirror_mode": {
    "name": "ipython",
    "version": 3
   },
   "file_extension": ".py",
   "mimetype": "text/x-python",
   "name": "python",
   "nbconvert_exporter": "python",
   "pygments_lexer": "ipython3",
   "version": "3.10.4"
  },
  "orig_nbformat": 4,
  "vscode": {
   "interpreter": {
    "hash": "afb734500600fd355917ca529030176ea0ca205570884b88f2f6f7d791fd3fbe"
   }
  }
 },
 "nbformat": 4,
 "nbformat_minor": 2
}
